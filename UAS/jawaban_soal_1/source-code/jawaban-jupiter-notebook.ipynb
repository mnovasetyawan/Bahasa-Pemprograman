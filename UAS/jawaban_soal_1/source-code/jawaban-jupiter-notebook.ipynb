{
 "cells": [
  {
   "cell_type": "code",
   "execution_count": 1,
   "metadata": {},
   "outputs": [
    {
     "name": "stdout",
     "output_type": "stream",
     "text": [
      "120\n"
     ]
    }
   ],
   "source": [
    "def faktorial(n):\n",
    "    if n == 1:  # Base case\n",
    "        return 1\n",
    "    else:\n",
    "        return n * faktorial(n - 1)  # Recursive call\n",
    "\n",
    "# Pemanggilan recursive function\n",
    "hasil = faktorial(5)\n",
    "print(hasil)  # Output: 120"
   ]
  }
 ],
 "metadata": {
  "kernelspec": {
   "display_name": "Python 3",
   "language": "python",
   "name": "python3"
  },
  "language_info": {
   "codemirror_mode": {
    "name": "ipython",
    "version": 3
   },
   "file_extension": ".py",
   "mimetype": "text/x-python",
   "name": "python",
   "nbconvert_exporter": "python",
   "pygments_lexer": "ipython3",
   "version": "3.10.12"
  }
 },
 "nbformat": 4,
 "nbformat_minor": 2
}
