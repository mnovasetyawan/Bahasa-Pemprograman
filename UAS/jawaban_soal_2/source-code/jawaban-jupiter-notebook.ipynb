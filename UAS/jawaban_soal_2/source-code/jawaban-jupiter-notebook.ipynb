{
 "cells": [
  {
   "cell_type": "code",
   "execution_count": 1,
   "metadata": {},
   "outputs": [
    {
     "name": "stdout",
     "output_type": "stream",
     "text": [
      "Invalid input! Please enter a valid number.\n",
      "Execution completed.\n"
     ]
    }
   ],
   "source": [
    "try:\n",
    "    # Blok kode yang mungkin menyebabkan pengecualian\n",
    "    number = int(input(\"Enter a number: \"))\n",
    "    result = 10 / number\n",
    "    print(\"Result is:\", result)\n",
    "except ValueError:\n",
    "    # Menangani pengecualian ketika input tidak bisa dikonversi ke integer\n",
    "    print(\"Invalid input! Please enter a valid number.\")\n",
    "except ZeroDivisionError:\n",
    "    # Menangani pengecualian ketika terjadi pembagian dengan nol\n",
    "    print(\"Error! Cannot divide by zero.\")\n",
    "finally:\n",
    "    # Blok kode ini akan selalu dieksekusi, terlepas dari apakah ada pengecualian atau tidak\n",
    "    print(\"Execution completed.\")"
   ]
  }
 ],
 "metadata": {
  "kernelspec": {
   "display_name": "Python 3",
   "language": "python",
   "name": "python3"
  },
  "language_info": {
   "codemirror_mode": {
    "name": "ipython",
    "version": 3
   },
   "file_extension": ".py",
   "mimetype": "text/x-python",
   "name": "python",
   "nbconvert_exporter": "python",
   "pygments_lexer": "ipython3",
   "version": "3.10.12"
  }
 },
 "nbformat": 4,
 "nbformat_minor": 2
}
