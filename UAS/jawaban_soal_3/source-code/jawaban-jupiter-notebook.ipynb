{
 "cells": [
  {
   "cell_type": "code",
   "execution_count": 6,
   "metadata": {},
   "outputs": [],
   "source": [
    "import tkinter\n",
    "from tkinter import messagebox\n",
    "\n",
    "# Fungsi yang akan dipanggil ketika tombol ditekan\n",
    "def on_button_click():\n",
    "    \"\"\"\n",
    "    Fungsi ini dipanggil ketika tombol 'Submit' ditekan.\n",
    "    Fungsi ini mengambil teks dari kotak teks dan menampilkan kotak pesan\n",
    "    dengan teks yang dimasukkan oleh pengguna.\n",
    "    \"\"\"\n",
    "    user_input = entry.get()\n",
    "    messagebox.showinfo(\"Info\", f\"You entered: {user_input}\")\n",
    "\n",
    "# Membuat instance dari Tk\n",
    "root = tkinter.Tk()\n",
    "root.title(\"Simple GUI Example\")\n",
    "\n",
    "# Menambahkan label ke jendela\n",
    "label = tkinter.Label(root, text=\"Enter something:\")\n",
    "label.pack(pady=10)\n",
    "\n",
    "# Menambahkan kotak teks ke jendela\n",
    "entry = tkinter.Entry(root)\n",
    "entry.pack(pady=10)\n",
    "\n",
    "# Menambahkan tombol ke jendela\n",
    "button = tkinter.Button(root, text=\"Submit\", command=on_button_click)\n",
    "button.pack(pady=10)\n",
    "\n",
    "# Menjalankan event loop\n",
    "root.mainloop()\n"
   ]
  }
 ],
 "metadata": {
  "kernelspec": {
   "display_name": "Python 3",
   "language": "python",
   "name": "python3"
  },
  "language_info": {
   "codemirror_mode": {
    "name": "ipython",
    "version": 3
   },
   "file_extension": ".py",
   "mimetype": "text/x-python",
   "name": "python",
   "nbconvert_exporter": "python",
   "pygments_lexer": "ipython3",
   "version": "3.10.12"
  }
 },
 "nbformat": 4,
 "nbformat_minor": 2
}
